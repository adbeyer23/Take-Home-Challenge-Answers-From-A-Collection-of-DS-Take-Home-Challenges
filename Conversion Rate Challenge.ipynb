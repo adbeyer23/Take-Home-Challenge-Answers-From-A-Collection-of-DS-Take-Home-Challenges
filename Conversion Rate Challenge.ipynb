{
 "cells": [
  {
   "cell_type": "markdown",
   "metadata": {},
   "source": [
    "This is my practice data science challenge answers from *A Collection of Data Science Take-Home Challenges*"
   ]
  },
  {
   "cell_type": "markdown",
   "metadata": {
    "ExecuteTime": {
     "end_time": "2017-09-19T12:54:55.506402Z",
     "start_time": "2017-09-19T12:54:55.499344Z"
    }
   },
   "source": [
    "**Goal: Predict conversion rate, and come up with recommendations on how to improve the conversion rate for a website**\n",
    "    "
   ]
  },
  {
   "cell_type": "code",
   "execution_count": 1,
   "metadata": {
    "ExecuteTime": {
     "end_time": "2017-09-20T10:42:46.061612Z",
     "start_time": "2017-09-20T10:42:41.730023Z"
    },
    "collapsed": false
   },
   "outputs": [],
   "source": [
    "import pandas as pd\n",
    "import matplotlib.pyplot as plt\n",
    "import seaborn as sns\n",
    "import numpy as np\n",
    "%matplotlib inline\n",
    "from sklearn.linear_model import LogisticRegression, LogisticRegressionCV, RidgeClassifierCV\n",
    "from sklearn.model_selection import train_test_split\n",
    "from sklearn.preprocessing import MinMaxScaler\n",
    "from sklearn.metrics import classification_report\n",
    "from sklearn.metrics import f1_score\n",
    "from sklearn.metrics import fbeta_score, make_scorer, precision_score\n",
    "from sklearn.ensemble import RandomForestClassifier\n",
    "from sklearn.model_selection import GridSearchCV\n",
    "from sklearn.feature_selection import SelectKBest"
   ]
  },
  {
   "cell_type": "code",
   "execution_count": 2,
   "metadata": {
    "ExecuteTime": {
     "end_time": "2017-09-20T10:42:46.498338Z",
     "start_time": "2017-09-20T10:42:46.064261Z"
    },
    "collapsed": true
   },
   "outputs": [],
   "source": [
    "conversion = pd.read_csv(\"conversion_data.csv\")"
   ]
  },
  {
   "cell_type": "code",
   "execution_count": 3,
   "metadata": {
    "ExecuteTime": {
     "end_time": "2017-09-20T10:42:46.645233Z",
     "start_time": "2017-09-20T10:42:46.501691Z"
    },
    "collapsed": false
   },
   "outputs": [
    {
     "data": {
      "text/html": [
       "<div>\n",
       "<style>\n",
       "    .dataframe thead tr:only-child th {\n",
       "        text-align: right;\n",
       "    }\n",
       "\n",
       "    .dataframe thead th {\n",
       "        text-align: left;\n",
       "    }\n",
       "\n",
       "    .dataframe tbody tr th {\n",
       "        vertical-align: top;\n",
       "    }\n",
       "</style>\n",
       "<table border=\"1\" class=\"dataframe\">\n",
       "  <thead>\n",
       "    <tr style=\"text-align: right;\">\n",
       "      <th></th>\n",
       "      <th>country</th>\n",
       "      <th>age</th>\n",
       "      <th>new_user</th>\n",
       "      <th>source</th>\n",
       "      <th>total_pages_visited</th>\n",
       "      <th>converted</th>\n",
       "    </tr>\n",
       "  </thead>\n",
       "  <tbody>\n",
       "    <tr>\n",
       "      <th>0</th>\n",
       "      <td>UK</td>\n",
       "      <td>25</td>\n",
       "      <td>1</td>\n",
       "      <td>Ads</td>\n",
       "      <td>1</td>\n",
       "      <td>0</td>\n",
       "    </tr>\n",
       "    <tr>\n",
       "      <th>1</th>\n",
       "      <td>US</td>\n",
       "      <td>23</td>\n",
       "      <td>1</td>\n",
       "      <td>Seo</td>\n",
       "      <td>5</td>\n",
       "      <td>0</td>\n",
       "    </tr>\n",
       "    <tr>\n",
       "      <th>2</th>\n",
       "      <td>US</td>\n",
       "      <td>28</td>\n",
       "      <td>1</td>\n",
       "      <td>Seo</td>\n",
       "      <td>4</td>\n",
       "      <td>0</td>\n",
       "    </tr>\n",
       "    <tr>\n",
       "      <th>3</th>\n",
       "      <td>China</td>\n",
       "      <td>39</td>\n",
       "      <td>1</td>\n",
       "      <td>Seo</td>\n",
       "      <td>5</td>\n",
       "      <td>0</td>\n",
       "    </tr>\n",
       "    <tr>\n",
       "      <th>4</th>\n",
       "      <td>US</td>\n",
       "      <td>30</td>\n",
       "      <td>1</td>\n",
       "      <td>Seo</td>\n",
       "      <td>6</td>\n",
       "      <td>0</td>\n",
       "    </tr>\n",
       "  </tbody>\n",
       "</table>\n",
       "</div>"
      ],
      "text/plain": [
       "  country  age  new_user source  total_pages_visited  converted\n",
       "0      UK   25         1    Ads                    1          0\n",
       "1      US   23         1    Seo                    5          0\n",
       "2      US   28         1    Seo                    4          0\n",
       "3   China   39         1    Seo                    5          0\n",
       "4      US   30         1    Seo                    6          0"
      ]
     },
     "execution_count": 3,
     "metadata": {},
     "output_type": "execute_result"
    }
   ],
   "source": [
    "#Let's look at some of this data:\n",
    "conversion.head()"
   ]
  },
  {
   "cell_type": "code",
   "execution_count": 4,
   "metadata": {
    "ExecuteTime": {
     "end_time": "2017-09-20T10:42:46.959919Z",
     "start_time": "2017-09-20T10:42:46.659521Z"
    },
    "collapsed": false
   },
   "outputs": [
    {
     "name": "stdout",
     "output_type": "stream",
     "text": [
      "<class 'pandas.core.frame.DataFrame'>\n",
      "RangeIndex: 316200 entries, 0 to 316199\n",
      "Data columns (total 6 columns):\n",
      "country                316200 non-null object\n",
      "age                    316200 non-null int64\n",
      "new_user               316200 non-null int64\n",
      "source                 316200 non-null object\n",
      "total_pages_visited    316200 non-null int64\n",
      "converted              316200 non-null int64\n",
      "dtypes: int64(4), object(2)\n",
      "memory usage: 14.5+ MB\n"
     ]
    }
   ],
   "source": [
    "conversion.info()"
   ]
  },
  {
   "cell_type": "code",
   "execution_count": 5,
   "metadata": {
    "ExecuteTime": {
     "end_time": "2017-09-20T10:42:47.298669Z",
     "start_time": "2017-09-20T10:42:46.996415Z"
    },
    "collapsed": false
   },
   "outputs": [
    {
     "data": {
      "text/html": [
       "<div>\n",
       "<style>\n",
       "    .dataframe thead tr:only-child th {\n",
       "        text-align: right;\n",
       "    }\n",
       "\n",
       "    .dataframe thead th {\n",
       "        text-align: left;\n",
       "    }\n",
       "\n",
       "    .dataframe tbody tr th {\n",
       "        vertical-align: top;\n",
       "    }\n",
       "</style>\n",
       "<table border=\"1\" class=\"dataframe\">\n",
       "  <thead>\n",
       "    <tr style=\"text-align: right;\">\n",
       "      <th></th>\n",
       "      <th>age</th>\n",
       "      <th>new_user</th>\n",
       "      <th>total_pages_visited</th>\n",
       "      <th>converted</th>\n",
       "    </tr>\n",
       "  </thead>\n",
       "  <tbody>\n",
       "    <tr>\n",
       "      <th>count</th>\n",
       "      <td>316200.000000</td>\n",
       "      <td>316200.000000</td>\n",
       "      <td>316200.000000</td>\n",
       "      <td>316200.000000</td>\n",
       "    </tr>\n",
       "    <tr>\n",
       "      <th>mean</th>\n",
       "      <td>30.569858</td>\n",
       "      <td>0.685465</td>\n",
       "      <td>4.872966</td>\n",
       "      <td>0.032258</td>\n",
       "    </tr>\n",
       "    <tr>\n",
       "      <th>std</th>\n",
       "      <td>8.271802</td>\n",
       "      <td>0.464331</td>\n",
       "      <td>3.341104</td>\n",
       "      <td>0.176685</td>\n",
       "    </tr>\n",
       "    <tr>\n",
       "      <th>min</th>\n",
       "      <td>17.000000</td>\n",
       "      <td>0.000000</td>\n",
       "      <td>1.000000</td>\n",
       "      <td>0.000000</td>\n",
       "    </tr>\n",
       "    <tr>\n",
       "      <th>25%</th>\n",
       "      <td>24.000000</td>\n",
       "      <td>0.000000</td>\n",
       "      <td>2.000000</td>\n",
       "      <td>0.000000</td>\n",
       "    </tr>\n",
       "    <tr>\n",
       "      <th>50%</th>\n",
       "      <td>30.000000</td>\n",
       "      <td>1.000000</td>\n",
       "      <td>4.000000</td>\n",
       "      <td>0.000000</td>\n",
       "    </tr>\n",
       "    <tr>\n",
       "      <th>75%</th>\n",
       "      <td>36.000000</td>\n",
       "      <td>1.000000</td>\n",
       "      <td>7.000000</td>\n",
       "      <td>0.000000</td>\n",
       "    </tr>\n",
       "    <tr>\n",
       "      <th>max</th>\n",
       "      <td>123.000000</td>\n",
       "      <td>1.000000</td>\n",
       "      <td>29.000000</td>\n",
       "      <td>1.000000</td>\n",
       "    </tr>\n",
       "  </tbody>\n",
       "</table>\n",
       "</div>"
      ],
      "text/plain": [
       "                 age       new_user  total_pages_visited      converted\n",
       "count  316200.000000  316200.000000        316200.000000  316200.000000\n",
       "mean       30.569858       0.685465             4.872966       0.032258\n",
       "std         8.271802       0.464331             3.341104       0.176685\n",
       "min        17.000000       0.000000             1.000000       0.000000\n",
       "25%        24.000000       0.000000             2.000000       0.000000\n",
       "50%        30.000000       1.000000             4.000000       0.000000\n",
       "75%        36.000000       1.000000             7.000000       0.000000\n",
       "max       123.000000       1.000000            29.000000       1.000000"
      ]
     },
     "execution_count": 5,
     "metadata": {},
     "output_type": "execute_result"
    }
   ],
   "source": [
    "conversion.describe()\n",
    "#more new users than not...total pages visited is about 5...converted is around 3.22%\n",
    "#Also, we need to look at what is up with the max age of 123!"
   ]
  },
  {
   "cell_type": "code",
   "execution_count": 6,
   "metadata": {
    "ExecuteTime": {
     "end_time": "2017-09-20T10:42:47.562869Z",
     "start_time": "2017-09-20T10:42:47.307022Z"
    },
    "collapsed": false
   },
   "outputs": [
    {
     "data": {
      "text/plain": [
       "US         178092\n",
       "China       76602\n",
       "UK          48450\n",
       "Germany     13056\n",
       "Name: country, dtype: int64"
      ]
     },
     "execution_count": 6,
     "metadata": {},
     "output_type": "execute_result"
    }
   ],
   "source": [
    "conversion.country.value_counts()\n",
    "#most people from the US"
   ]
  },
  {
   "cell_type": "code",
   "execution_count": 7,
   "metadata": {
    "ExecuteTime": {
     "end_time": "2017-09-20T10:42:52.081468Z",
     "start_time": "2017-09-20T10:42:51.925549Z"
    },
    "collapsed": false
   },
   "outputs": [
    {
     "data": {
      "text/plain": [
       "Seo       149940\n",
       "Ads        85680\n",
       "Direct     70380\n",
       "Name: source, dtype: int64"
      ]
     },
     "execution_count": 7,
     "metadata": {},
     "output_type": "execute_result"
    }
   ],
   "source": [
    "#Let's look more at the conversion rate:\n",
    "conversion[conversion.converted==0].source.value_counts()"
   ]
  },
  {
   "cell_type": "code",
   "execution_count": 8,
   "metadata": {
    "ExecuteTime": {
     "end_time": "2017-09-20T10:42:54.245261Z",
     "start_time": "2017-09-20T10:42:53.778847Z"
    },
    "collapsed": false
   },
   "outputs": [
    {
     "data": {
      "text/plain": [
       "<matplotlib.axes._subplots.AxesSubplot at 0x10344e320>"
      ]
     },
     "execution_count": 8,
     "metadata": {},
     "output_type": "execute_result"
    },
    {
     "data": {
      "image/png": "[encoded data removed]",
      "text/plain": [
       "<matplotlib.figure.Figure at 0x10f349a58>"
      ]
     },
     "metadata": {},
     "output_type": "display_data"
    }
   ],
   "source": [
    "(conversion[conversion.converted==1][\"country\"].value_counts() / \n",
    " conversion[\"country\"].value_counts()).sort_values().plot(kind=\"bar\")"
   ]
  },
  {
   "cell_type": "markdown",
   "metadata": {},
   "source": [
    "China's conversion rate is much lower than the other countries"
   ]
  },
  {
   "cell_type": "code",
   "execution_count": 9,
   "metadata": {
    "ExecuteTime": {
     "end_time": "2017-09-20T10:42:56.654319Z",
     "start_time": "2017-09-20T10:42:56.228880Z"
    },
    "collapsed": false
   },
   "outputs": [
    {
     "data": {
      "text/plain": [
       "<matplotlib.axes._subplots.AxesSubplot at 0x111a8f400>"
      ]
     },
     "execution_count": 9,
     "metadata": {},
     "output_type": "execute_result"
    },
    {
     "data": {
      "image/png": "[encoded data removed]",
      "text/plain": [
       "<matplotlib.figure.Figure at 0x10f349208>"
      ]
     },
     "metadata": {},
     "output_type": "display_data"
    }
   ],
   "source": [
    "(conversion[conversion.converted==1].source.value_counts()\n",
    "/conversion.source.value_counts()).plot(\"bar\")\n"
   ]
  },
  {
   "cell_type": "markdown",
   "metadata": {},
   "source": [
    "Showing up to the site via SEO and Ads have roughly the same conversion rate, and a bit lower for direct"
   ]
  },
  {
   "cell_type": "code",
   "execution_count": 10,
   "metadata": {
    "ExecuteTime": {
     "end_time": "2017-09-20T10:43:00.239513Z",
     "start_time": "2017-09-20T10:43:00.159422Z"
    },
    "collapsed": false
   },
   "outputs": [
    {
     "data": {
      "text/plain": [
       "17      7597\n",
       "18      8466\n",
       "19      9349\n",
       "20     10156\n",
       "21     10966\n",
       "22     11701\n",
       "23     12336\n",
       "24     12960\n",
       "25     13460\n",
       "26     13931\n",
       "27     14084\n",
       "28     14341\n",
       "29     14158\n",
       "30     14346\n",
       "31     13692\n",
       "32     13507\n",
       "33     12631\n",
       "34     12108\n",
       "35     11471\n",
       "36     10779\n",
       "37      9761\n",
       "38      8970\n",
       "39      8202\n",
       "40      7148\n",
       "41      6401\n",
       "42      5588\n",
       "43      4904\n",
       "44      4224\n",
       "45      3634\n",
       "46      2994\n",
       "47      2504\n",
       "48      2121\n",
       "49      1629\n",
       "50      1356\n",
       "51      1093\n",
       "52       935\n",
       "53       627\n",
       "54       520\n",
       "55       394\n",
       "56       286\n",
       "57       247\n",
       "58       165\n",
       "59       127\n",
       "60        94\n",
       "61        71\n",
       "62        59\n",
       "63        35\n",
       "64        27\n",
       "65        15\n",
       "66         9\n",
       "67         5\n",
       "68         5\n",
       "69         3\n",
       "70         2\n",
       "72         1\n",
       "73         1\n",
       "77         1\n",
       "79         1\n",
       "111        1\n",
       "123        1\n",
       "Name: age, dtype: int64"
      ]
     },
     "execution_count": 10,
     "metadata": {},
     "output_type": "execute_result"
    }
   ],
   "source": [
    "conversion.age.sort_values().value_counts(sort=False)\n",
    "#couple of crazy ages in there"
   ]
  },
  {
   "cell_type": "code",
   "execution_count": 11,
   "metadata": {
    "ExecuteTime": {
     "end_time": "2017-09-20T10:43:07.676173Z",
     "start_time": "2017-09-20T10:43:07.639192Z"
    },
    "collapsed": true
   },
   "outputs": [],
   "source": [
    "#Those ages were probably mistypes, and since there is only two, we can safely get rid of them\n",
    "conversion = conversion[conversion.age < 80]"
   ]
  },
  {
   "cell_type": "markdown",
   "metadata": {},
   "source": [
    "Are there differences in conversion based on age?"
   ]
  },
  {
   "cell_type": "code",
   "execution_count": 12,
   "metadata": {
    "ExecuteTime": {
     "end_time": "2017-09-20T10:43:08.604887Z",
     "start_time": "2017-09-20T10:43:08.593443Z"
    },
    "collapsed": false
   },
   "outputs": [
    {
     "data": {
      "text/plain": [
       "26.52902529907825"
      ]
     },
     "execution_count": 12,
     "metadata": {},
     "output_type": "execute_result"
    }
   ],
   "source": [
    "conversion[conversion.converted==1].age.mean()"
   ]
  },
  {
   "cell_type": "code",
   "execution_count": 13,
   "metadata": {
    "ExecuteTime": {
     "end_time": "2017-09-20T10:43:09.290335Z",
     "start_time": "2017-09-20T10:43:09.256210Z"
    },
    "collapsed": false
   },
   "outputs": [
    {
     "data": {
      "text/plain": [
       "30.703960784313725"
      ]
     },
     "execution_count": 13,
     "metadata": {},
     "output_type": "execute_result"
    }
   ],
   "source": [
    "conversion[conversion.converted==0].age.mean()"
   ]
  },
  {
   "cell_type": "markdown",
   "metadata": {},
   "source": [
    "Those who are younger tend to convert more."
   ]
  },
  {
   "cell_type": "code",
   "execution_count": 14,
   "metadata": {
    "ExecuteTime": {
     "end_time": "2017-09-20T10:43:10.778156Z",
     "start_time": "2017-09-20T10:43:10.354381Z"
    },
    "collapsed": false
   },
   "outputs": [
    {
     "data": {
      "text/plain": [
       "<matplotlib.axes._subplots.AxesSubplot at 0x111a07e48>"
      ]
     },
     "execution_count": 14,
     "metadata": {},
     "output_type": "execute_result"
    },
    {
     "data": {
      "image/png": "[encoded data removed]",
      "text/plain": [
       "<matplotlib.figure.Figure at 0x107c040f0>"
      ]
     },
     "metadata": {},
     "output_type": "display_data"
    }
   ],
   "source": [
    "#Let's take a look at page views as well\n",
    "conversion['total_pages_visited'].hist()"
   ]
  },
  {
   "cell_type": "markdown",
   "metadata": {
    "ExecuteTime": {
     "end_time": "2017-09-19T12:47:04.846676Z",
     "start_time": "2017-09-19T12:47:04.835481Z"
    }
   },
   "source": [
    "Most people view 5 or less pages. Is there a difference in pages viewed between those who converted and those who didn't?"
   ]
  },
  {
   "cell_type": "code",
   "execution_count": 15,
   "metadata": {
    "ExecuteTime": {
     "end_time": "2017-09-20T10:43:14.946760Z",
     "start_time": "2017-09-20T10:43:14.122812Z"
    },
    "collapsed": false
   },
   "outputs": [
    {
     "data": {
      "text/plain": [
       "<matplotlib.text.Text at 0x10f9c5a90>"
      ]
     },
     "execution_count": 15,
     "metadata": {},
     "output_type": "execute_result"
    },
    {
     "data": {
      "image/png": "[encoded data removed]",
      "text/plain": [
       "<matplotlib.figure.Figure at 0x107c14860>"
      ]
     },
     "metadata": {},
     "output_type": "display_data"
    }
   ],
   "source": [
    "sns.distplot(conversion[conversion.converted==1]['total_pages_visited'], kde=False, norm_hist=True, label=\"Converted\")\n",
    "sns.distplot(conversion[conversion.converted==0]['total_pages_visited'], kde=False, norm_hist=True, label= \"Didn't Convert\")\n",
    "plt.legend()\n",
    "plt.title(\"Conversion Rate by Total Pages Visited\")\n",
    "plt.ylabel(\"Percent Conversion Rate\")"
   ]
  },
  {
   "cell_type": "markdown",
   "metadata": {},
   "source": [
    "Do new users convert more?"
   ]
  },
  {
   "cell_type": "code",
   "execution_count": null,
   "metadata": {
    "collapsed": true
   },
   "outputs": [],
   "source": [
    "print(converion[conversion.new_user == 1 and conversion.converted==1] / len(conversion))\n",
    "print(converion[conversion.new_user == 0 and conversion.converted==0] / len(conversion))\n"
   ]
  },
  {
   "cell_type": "markdown",
   "metadata": {
    "ExecuteTime": {
     "end_time": "2017-09-19T13:03:22.421007Z",
     "start_time": "2017-09-19T13:03:22.414592Z"
    }
   },
   "source": [
    "**Modelling**"
   ]
  },
  {
   "cell_type": "markdown",
   "metadata": {},
   "source": [
    "Let's do some modelling to see how well we can predict conversion rate. I will use two different algorithms: Logistic Regression and Random Forests classifier. Since we are predicting 'yes' or 'no' for conversion we need to use a classifier. I picked logistic regression since it is simple, quick, and we can get somewhat of  an understanding of what predicts conversion by looking at the coefficients. I picked a random forest classifier because it does not require much tuning out of the box, and tends to be more accurate than logistic regression, especially if there are non-linear relationships in the data.\n",
    "\n",
    "If I were to have more time. I would try some grid serach especially on logistic regression to try different types of regularization, etc. I would also try more complex models that require more tuning like Gradient Boosted Trees."
   ]
  },
  {
   "cell_type": "code",
   "execution_count": 18,
   "metadata": {
    "ExecuteTime": {
     "end_time": "2017-09-20T10:53:55.630435Z",
     "start_time": "2017-09-20T10:53:55.534985Z"
    },
    "collapsed": false
   },
   "outputs": [],
   "source": [
    "#We need to first make dummy variables for the categorical values:\n",
    "country_dummies = pd.get_dummies(conversion.country)\n",
    "source_dummies = pd.get_dummies(conversion.source)\n",
    "conversion_final = pd.concat([conversion[[\"age\", \"new_user\", \"total_pages_visited\", \"converted\"]]\\\n",
    "                              , country_dummies, source_dummies], axis=1)\n"
   ]
  },
  {
   "cell_type": "code",
   "execution_count": 19,
   "metadata": {
    "ExecuteTime": {
     "end_time": "2017-09-20T10:53:56.059226Z",
     "start_time": "2017-09-20T10:53:56.054895Z"
    },
    "collapsed": true
   },
   "outputs": [],
   "source": [
    "#Let's also scale the values for age and total_pages_visited to help with the intrepetability of Logistic Regression\n",
    "MMS = MinMaxScaler()"
   ]
  },
  {
   "cell_type": "code",
   "execution_count": 20,
   "metadata": {
    "ExecuteTime": {
     "end_time": "2017-09-20T10:53:56.749086Z",
     "start_time": "2017-09-20T10:53:56.709124Z"
    },
    "collapsed": false
   },
   "outputs": [
    {
     "name": "stderr",
     "output_type": "stream",
     "text": [
      "//anaconda/lib/python3.5/site-packages/sklearn/utils/validation.py:429: DataConversionWarning: Data with input dtype int64 was converted to float64 by MinMaxScaler.\n",
      "  warnings.warn(msg, _DataConversionWarning)\n",
      "//anaconda/lib/python3.5/site-packages/sklearn/preprocessing/data.py:321: DeprecationWarning: Passing 1d arrays as data is deprecated in 0.17 and will raise ValueError in 0.19. Reshape your data either using X.reshape(-1, 1) if your data has a single feature or X.reshape(1, -1) if it contains a single sample.\n",
      "  warnings.warn(DEPRECATION_MSG_1D, DeprecationWarning)\n",
      "//anaconda/lib/python3.5/site-packages/sklearn/preprocessing/data.py:356: DeprecationWarning: Passing 1d arrays as data is deprecated in 0.17 and will raise ValueError in 0.19. Reshape your data either using X.reshape(-1, 1) if your data has a single feature or X.reshape(1, -1) if it contains a single sample.\n",
      "  warnings.warn(DEPRECATION_MSG_1D, DeprecationWarning)\n",
      "//anaconda/lib/python3.5/site-packages/sklearn/preprocessing/data.py:321: DeprecationWarning: Passing 1d arrays as data is deprecated in 0.17 and will raise ValueError in 0.19. Reshape your data either using X.reshape(-1, 1) if your data has a single feature or X.reshape(1, -1) if it contains a single sample.\n",
      "  warnings.warn(DEPRECATION_MSG_1D, DeprecationWarning)\n",
      "//anaconda/lib/python3.5/site-packages/sklearn/preprocessing/data.py:356: DeprecationWarning: Passing 1d arrays as data is deprecated in 0.17 and will raise ValueError in 0.19. Reshape your data either using X.reshape(-1, 1) if your data has a single feature or X.reshape(1, -1) if it contains a single sample.\n",
      "  warnings.warn(DEPRECATION_MSG_1D, DeprecationWarning)\n"
     ]
    }
   ],
   "source": [
    "conversion_final[\"age\"] = MMS.fit_transform(conversion_final[\"age\"])\n",
    "conversion_final[\"total_pages_visited\"] = MMS.fit_transform(conversion_final[\"total_pages_visited\"])\n"
   ]
  },
  {
   "cell_type": "code",
   "execution_count": 21,
   "metadata": {
    "ExecuteTime": {
     "end_time": "2017-09-20T10:53:57.520429Z",
     "start_time": "2017-09-20T10:53:57.492204Z"
    },
    "collapsed": false
   },
   "outputs": [
    {
     "data": {
      "text/html": [
       "<div>\n",
       "<style>\n",
       "    .dataframe thead tr:only-child th {\n",
       "        text-align: right;\n",
       "    }\n",
       "\n",
       "    .dataframe thead th {\n",
       "        text-align: left;\n",
       "    }\n",
       "\n",
       "    .dataframe tbody tr th {\n",
       "        vertical-align: top;\n",
       "    }\n",
       "</style>\n",
       "<table border=\"1\" class=\"dataframe\">\n",
       "  <thead>\n",
       "    <tr style=\"text-align: right;\">\n",
       "      <th></th>\n",
       "      <th>age</th>\n",
       "      <th>new_user</th>\n",
       "      <th>total_pages_visited</th>\n",
       "      <th>converted</th>\n",
       "      <th>China</th>\n",
       "      <th>Germany</th>\n",
       "      <th>UK</th>\n",
       "      <th>US</th>\n",
       "      <th>Ads</th>\n",
       "      <th>Direct</th>\n",
       "      <th>Seo</th>\n",
       "    </tr>\n",
       "  </thead>\n",
       "  <tbody>\n",
       "    <tr>\n",
       "      <th>0</th>\n",
       "      <td>0.129032</td>\n",
       "      <td>1</td>\n",
       "      <td>0.000000</td>\n",
       "      <td>0</td>\n",
       "      <td>0</td>\n",
       "      <td>0</td>\n",
       "      <td>1</td>\n",
       "      <td>0</td>\n",
       "      <td>1</td>\n",
       "      <td>0</td>\n",
       "      <td>0</td>\n",
       "    </tr>\n",
       "    <tr>\n",
       "      <th>1</th>\n",
       "      <td>0.096774</td>\n",
       "      <td>1</td>\n",
       "      <td>0.142857</td>\n",
       "      <td>0</td>\n",
       "      <td>0</td>\n",
       "      <td>0</td>\n",
       "      <td>0</td>\n",
       "      <td>1</td>\n",
       "      <td>0</td>\n",
       "      <td>0</td>\n",
       "      <td>1</td>\n",
       "    </tr>\n",
       "    <tr>\n",
       "      <th>2</th>\n",
       "      <td>0.177419</td>\n",
       "      <td>1</td>\n",
       "      <td>0.107143</td>\n",
       "      <td>0</td>\n",
       "      <td>0</td>\n",
       "      <td>0</td>\n",
       "      <td>0</td>\n",
       "      <td>1</td>\n",
       "      <td>0</td>\n",
       "      <td>0</td>\n",
       "      <td>1</td>\n",
       "    </tr>\n",
       "    <tr>\n",
       "      <th>3</th>\n",
       "      <td>0.354839</td>\n",
       "      <td>1</td>\n",
       "      <td>0.142857</td>\n",
       "      <td>0</td>\n",
       "      <td>1</td>\n",
       "      <td>0</td>\n",
       "      <td>0</td>\n",
       "      <td>0</td>\n",
       "      <td>0</td>\n",
       "      <td>0</td>\n",
       "      <td>1</td>\n",
       "    </tr>\n",
       "    <tr>\n",
       "      <th>4</th>\n",
       "      <td>0.209677</td>\n",
       "      <td>1</td>\n",
       "      <td>0.178571</td>\n",
       "      <td>0</td>\n",
       "      <td>0</td>\n",
       "      <td>0</td>\n",
       "      <td>0</td>\n",
       "      <td>1</td>\n",
       "      <td>0</td>\n",
       "      <td>0</td>\n",
       "      <td>1</td>\n",
       "    </tr>\n",
       "  </tbody>\n",
       "</table>\n",
       "</div>"
      ],
      "text/plain": [
       "        age  new_user  total_pages_visited  converted  China  Germany  UK  US  \\\n",
       "0  0.129032         1             0.000000          0      0        0   1   0   \n",
       "1  0.096774         1             0.142857          0      0        0   0   1   \n",
       "2  0.177419         1             0.107143          0      0        0   0   1   \n",
       "3  0.354839         1             0.142857          0      1        0   0   0   \n",
       "4  0.209677         1             0.178571          0      0        0   0   1   \n",
       "\n",
       "   Ads  Direct  Seo  \n",
       "0    1       0    0  \n",
       "1    0       0    1  \n",
       "2    0       0    1  \n",
       "3    0       0    1  \n",
       "4    0       0    1  "
      ]
     },
     "execution_count": 21,
     "metadata": {},
     "output_type": "execute_result"
    }
   ],
   "source": [
    "conversion_final.head()"
   ]
  },
  {
   "cell_type": "markdown",
   "metadata": {},
   "source": [
    "Let's try Logistic Regression with balanced and unbalanced classes--remember that there is significantly more not converted than converted"
   ]
  },
  {
   "cell_type": "code",
   "execution_count": 22,
   "metadata": {
    "ExecuteTime": {
     "end_time": "2017-09-20T10:53:59.585499Z",
     "start_time": "2017-09-20T10:53:59.580128Z"
    },
    "collapsed": false
   },
   "outputs": [],
   "source": [
    "LR = LogisticRegression()\n",
    "LR_bal = LogisticRegression(class_weight=\"balanced\")"
   ]
  },
  {
   "cell_type": "code",
   "execution_count": 23,
   "metadata": {
    "ExecuteTime": {
     "end_time": "2017-09-20T10:54:00.657621Z",
     "start_time": "2017-09-20T10:54:00.430575Z"
    },
    "collapsed": false
   },
   "outputs": [],
   "source": [
    "#splitting data into train and test splits\n",
    "X_train, X_test, y_train, y_test = train_test_split(conversion_final.loc[:, conversion_final.columns != \"converted\"]\n",
    ", conversion.converted, test_size=0.20, random_state=42)"
   ]
  },
  {
   "cell_type": "code",
   "execution_count": 24,
   "metadata": {
    "ExecuteTime": {
     "end_time": "2017-09-20T10:54:03.444790Z",
     "start_time": "2017-09-20T10:54:01.363172Z"
    },
    "collapsed": false
   },
   "outputs": [
    {
     "data": {
      "text/plain": [
       "LogisticRegression(C=1.0, class_weight='balanced', dual=False,\n",
       "          fit_intercept=True, intercept_scaling=1, max_iter=100,\n",
       "          multi_class='ovr', n_jobs=1, penalty='l2', random_state=None,\n",
       "          solver='liblinear', tol=0.0001, verbose=0, warm_start=False)"
      ]
     },
     "execution_count": 24,
     "metadata": {},
     "output_type": "execute_result"
    }
   ],
   "source": [
    "LR.fit(X_train, y_train)\n",
    "LR_bal.fit(X_train,y_train)"
   ]
  },
  {
   "cell_type": "code",
   "execution_count": 25,
   "metadata": {
    "ExecuteTime": {
     "end_time": "2017-09-20T10:54:03.661804Z",
     "start_time": "2017-09-20T10:54:03.448466Z"
    },
    "collapsed": false
   },
   "outputs": [
    {
     "name": "stdout",
     "output_type": "stream",
     "text": [
      "0.986033254532 0.941867819954\n"
     ]
    }
   ],
   "source": [
    "print(LR.score(X_train, y_train), LR_bal.score(X_train,y_train))"
   ]
  },
  {
   "cell_type": "code",
   "execution_count": 26,
   "metadata": {
    "ExecuteTime": {
     "end_time": "2017-09-20T10:54:03.931906Z",
     "start_time": "2017-09-20T10:54:03.666411Z"
    },
    "collapsed": false
   },
   "outputs": [
    {
     "name": "stdout",
     "output_type": "stream",
     "text": [
      "0.986543327008 0.942979127135\n"
     ]
    }
   ],
   "source": [
    "print(LR.score(X_test, y_test), LR_bal.score(X_test, y_test))\n",
    "\n"
   ]
  },
  {
   "cell_type": "markdown",
   "metadata": {
    "ExecuteTime": {
     "end_time": "2017-09-20T10:53:43.814661Z",
     "start_time": "2017-09-20T10:53:43.794895Z"
    }
   },
   "source": [
    "We got a pretty good accuracy score and there doesn't appear to be any overfitting which is good. Let's take a look\n",
    "at the classification report:"
   ]
  },
  {
   "cell_type": "code",
   "execution_count": 27,
   "metadata": {
    "ExecuteTime": {
     "end_time": "2017-09-20T10:54:07.466296Z",
     "start_time": "2017-09-20T10:54:07.395765Z"
    },
    "collapsed": false
   },
   "outputs": [
    {
     "name": "stdout",
     "output_type": "stream",
     "text": [
      "Unbalanced:\n",
      "             precision    recall  f1-score   support\n",
      "\n",
      "          0       1.00      0.99      0.99     61626\n",
      "          1       0.69      0.87      0.77      1614\n",
      "\n",
      "avg / total       0.99      0.99      0.99     63240\n",
      "\n",
      "Balanced:\n",
      "             precision    recall  f1-score   support\n",
      "\n",
      "          0       0.94      1.00      0.97     57863\n",
      "          1       0.94      0.35      0.51      5377\n",
      "\n",
      "avg / total       0.94      0.94      0.93     63240\n",
      "\n"
     ]
    }
   ],
   "source": [
    "print(\"Unbalanced:\")\n",
    "print(classification_report(LR.predict(X_test), y_test))\n",
    "print(\"Balanced:\")\n",
    "print(classification_report(LR_bal.predict(X_test), y_test))"
   ]
  },
  {
   "cell_type": "markdown",
   "metadata": {},
   "source": [
    "Overall, class_weighted=False seems to produce better results. Logistic Regression does a great job of predicting those who did not convert and fairly good job predicting those who did. For the converted class we do only get a .69 for precision, meaning 31% of those who did convert are being labeled as didn't convert, but overall the model is doing a fairly good job."
   ]
  },
  {
   "cell_type": "code",
   "execution_count": 34,
   "metadata": {
    "ExecuteTime": {
     "end_time": "2017-09-20T11:08:04.880388Z",
     "start_time": "2017-09-20T11:08:04.874606Z"
    },
    "collapsed": false
   },
   "outputs": [],
   "source": [
    "#Let's see what the important coefficients are:\n",
    "coef_columns = [x for x in conversion_final.columns if x != \"converted\"]\n"
   ]
  },
  {
   "cell_type": "code",
   "execution_count": 106,
   "metadata": {
    "ExecuteTime": {
     "end_time": "2017-09-19T13:54:26.036726Z",
     "start_time": "2017-09-19T13:54:25.268131Z"
    },
    "collapsed": false
   },
   "outputs": [
    {
     "data": {
      "text/plain": [
       "<matplotlib.text.Text at 0x116142668>"
      ]
     },
     "execution_count": 106,
     "metadata": {},
     "output_type": "execute_result"
    },
    {
     "data": {
      "image/png": "[encoded data removed]",
      "text/plain": [
       "<matplotlib.figure.Figure at 0x11051a5c0>"
      ]
     },
     "metadata": {},
     "output_type": "display_data"
    }
   ],
   "source": [
    "sns.barplot(y=coef_columns, x = LR.coef_.ravel(), orient=\"h\")\n",
    "plt.title(\"Weight of Coefficients\")"
   ]
  },
  {
   "cell_type": "markdown",
   "metadata": {},
   "source": [
    "Though coefficients for logistic regresion are not directly and completely interpretable. It does appear that total pages visited does lead to more people converting. Let's run a feature importances algorithm too."
   ]
  },
  {
   "cell_type": "code",
   "execution_count": 109,
   "metadata": {
    "ExecuteTime": {
     "end_time": "2017-09-19T13:59:29.554002Z",
     "start_time": "2017-09-19T13:59:29.550336Z"
    },
    "collapsed": false
   },
   "outputs": [],
   "source": [
    "SKB = SelectKBest()"
   ]
  },
  {
   "cell_type": "code",
   "execution_count": 110,
   "metadata": {
    "ExecuteTime": {
     "end_time": "2017-09-19T13:59:57.797916Z",
     "start_time": "2017-09-19T13:59:57.463830Z"
    },
    "collapsed": false
   },
   "outputs": [
    {
     "data": {
      "text/plain": [
       "SelectKBest(k=10, score_func=<function f_classif at 0x10ef7af28>)"
      ]
     },
     "execution_count": 110,
     "metadata": {},
     "output_type": "execute_result"
    }
   ],
   "source": [
    "SKB.fit(X_train, y_train)"
   ]
  },
  {
   "cell_type": "code",
   "execution_count": 115,
   "metadata": {
    "ExecuteTime": {
     "end_time": "2017-09-19T14:01:33.613150Z",
     "start_time": "2017-09-19T14:01:33.603135Z"
    },
    "collapsed": false
   },
   "outputs": [],
   "source": [
    "tuples = []\n",
    "for x,y in zip(SKB.scores_, coef_columns):\n",
    "    tuples.append([x,y])\n",
    "tuples = sorted(tuples, key= lambda x: abs(x[0]), reverse=True)"
   ]
  },
  {
   "cell_type": "code",
   "execution_count": 116,
   "metadata": {
    "ExecuteTime": {
     "end_time": "2017-09-19T14:01:37.054785Z",
     "start_time": "2017-09-19T14:01:37.036760Z"
    },
    "collapsed": false
   },
   "outputs": [
    {
     "data": {
      "text/plain": [
       "[[98220.90723838126, 'total_pages_visited'],\n",
       " [6137.7245946643288, 'new_user'],\n",
       " [2494.0097641900879, 'China'],\n",
       " [2031.4638653542695, 'age'],\n",
       " [635.87096552733783, 'UK'],\n",
       " [309.45427818396979, 'Germany'],\n",
       " [307.96512978746011, 'US'],\n",
       " [33.02529761358511, 'Direct'],\n",
       " [12.296998481356288, 'Ads'],\n",
       " [2.821246693306779, 'Seo']]"
      ]
     },
     "execution_count": 116,
     "metadata": {},
     "output_type": "execute_result"
    }
   ],
   "source": [
    "tuples"
   ]
  },
  {
   "cell_type": "markdown",
   "metadata": {
    "collapsed": true
   },
   "source": [
    "Again it looks like total pages visited is important as well as whether or not the person is a new user from China, and his or her age. How they got to the site does not seem to have that much of importance."
   ]
  },
  {
   "cell_type": "markdown",
   "metadata": {},
   "source": [
    "Let's move on to a random forest classifier:"
   ]
  },
  {
   "cell_type": "code",
   "execution_count": 28,
   "metadata": {
    "ExecuteTime": {
     "end_time": "2017-09-20T10:58:04.624073Z",
     "start_time": "2017-09-20T10:58:04.615720Z"
    },
    "collapsed": false
   },
   "outputs": [],
   "source": [
    "RF = RandomForestClassifier( n_estimators=300)\n",
    "RF_bal = RandomForestClassifier( n_estimators=300, class_weight=\"balanced\")"
   ]
  },
  {
   "cell_type": "code",
   "execution_count": 29,
   "metadata": {
    "ExecuteTime": {
     "end_time": "2017-09-20T11:01:46.662509Z",
     "start_time": "2017-09-20T10:58:05.009829Z"
    },
    "collapsed": false
   },
   "outputs": [
    {
     "data": {
      "text/plain": [
       "RandomForestClassifier(bootstrap=True, class_weight='balanced',\n",
       "            criterion='gini', max_depth=None, max_features='auto',\n",
       "            max_leaf_nodes=None, min_impurity_split=1e-07,\n",
       "            min_samples_leaf=1, min_samples_split=2,\n",
       "            min_weight_fraction_leaf=0.0, n_estimators=300, n_jobs=1,\n",
       "            oob_score=False, random_state=None, verbose=0,\n",
       "            warm_start=False)"
      ]
     },
     "execution_count": 29,
     "metadata": {},
     "output_type": "execute_result"
    }
   ],
   "source": [
    "RF.fit(X_train, y_train)\n",
    "RF_bal.fit(X_train, y_train)"
   ]
  },
  {
   "cell_type": "code",
   "execution_count": 30,
   "metadata": {
    "ExecuteTime": {
     "end_time": "2017-09-20T11:02:23.965216Z",
     "start_time": "2017-09-20T11:01:46.669951Z"
    },
    "collapsed": false
   },
   "outputs": [
    {
     "name": "stdout",
     "output_type": "stream",
     "text": [
      "0.988211481748 0.963614513081\n"
     ]
    }
   ],
   "source": [
    "print(RF.score(X_train, y_train), RF_bal.score(X_train, y_train))"
   ]
  },
  {
   "cell_type": "code",
   "execution_count": 31,
   "metadata": {
    "ExecuteTime": {
     "end_time": "2017-09-20T11:02:31.527955Z",
     "start_time": "2017-09-20T11:02:23.970039Z"
    },
    "collapsed": false
   },
   "outputs": [
    {
     "name": "stdout",
     "output_type": "stream",
     "text": [
      "0.984993674889 0.958807716635\n"
     ]
    }
   ],
   "source": [
    "print(RF.score(X_test, y_test), RF_bal.score(X_test, y_test))\n"
   ]
  },
  {
   "cell_type": "code",
   "execution_count": 32,
   "metadata": {
    "ExecuteTime": {
     "end_time": "2017-09-20T11:02:41.027470Z",
     "start_time": "2017-09-20T11:02:31.534740Z"
    },
    "collapsed": false
   },
   "outputs": [
    {
     "name": "stdout",
     "output_type": "stream",
     "text": [
      "Unbalanced:\n",
      "             precision    recall  f1-score   support\n",
      "\n",
      "          0       1.00      0.99      0.99     61548\n",
      "          1       0.68      0.82      0.75      1692\n",
      "\n",
      "avg / total       0.99      0.98      0.99     63240\n",
      "\n",
      "Balanced:\n",
      "             precision    recall  f1-score   support\n",
      "\n",
      "          0       0.96      0.99      0.98     59232\n",
      "          1       0.84      0.43      0.57      4008\n",
      "\n",
      "avg / total       0.96      0.96      0.95     63240\n",
      "\n"
     ]
    }
   ],
   "source": [
    "print(\"Unbalanced:\")\n",
    "print(classification_report(RF.predict(X_test), y_test))\n",
    "print(\"Balanced:\")\n",
    "print(classification_report(RF_bal.predict(X_test), y_test))"
   ]
  },
  {
   "cell_type": "markdown",
   "metadata": {
    "collapsed": true
   },
   "source": [
    "The random forest classifier did slightly worse than the logistic regression one, but it was helpful to run this classifier because we can see which features were most important to split on:"
   ]
  },
  {
   "cell_type": "code",
   "execution_count": 36,
   "metadata": {
    "ExecuteTime": {
     "end_time": "2017-09-20T11:10:32.871148Z",
     "start_time": "2017-09-20T11:10:31.937994Z"
    },
    "collapsed": false
   },
   "outputs": [
    {
     "data": {
      "text/plain": [
       "<matplotlib.text.Text at 0x10fc9ac18>"
      ]
     },
     "execution_count": 36,
     "metadata": {},
     "output_type": "execute_result"
    },
    {
     "data": {
      "image/png": "[encoded data removed]",
      "text/plain": [
       "<matplotlib.figure.Figure at 0x10fd23e48>"
      ]
     },
     "metadata": {},
     "output_type": "display_data"
    }
   ],
   "source": [
    "sns.barplot(y=coef_columns, x = RF.feature_importances_.ravel(), orient=\"h\")\n",
    "plt.title(\"Gini Importance\")"
   ]
  },
  {
   "cell_type": "markdown",
   "metadata": {},
   "source": [
    "This matches our features importances from earlier, again the most important features seem to be age, whether or not someone is a new user, total pages visited, and if they are from China or not."
   ]
  },
  {
   "cell_type": "markdown",
   "metadata": {},
   "source": [
    "**Final Analysis:**\n",
    "1. Though Germany has the highest conversion rate, not a lot of visitors are coming from Germany. It has a fourth of the visitors of the UK even though Germany is bigger than the UK. We need to find a way to incentive more Germans to buy. Maybe with free shipping and/or making sure the German translation of the website is correct.\n",
    "2. China is a huge red flag. Their conversion rate is close to zero and way lower than that of the other countries. They have the second most amount of people going to the website, and have a huge population with a middle class getting larger every day. We need to understand why Chinese people are not converting enough. Maybe the translation of the site is faulty, or shippping is expensive to China. This needs to be explored more.\n",
    "3. There is a tendency for younger people to convert more than older people. It may be beneficial to target those people based on email or other types of advertising.\n",
    "4. Total pages visited seems to be highly associated with converting or not. It is hard to change this metric directly, but we should work on getting people to stay on the site longer. Maybe double check there is no speed issues or other issues with getting around the site. \n",
    "5. Previous users tend to convert more than new users, which again is not suprising, so maybe we can have an adertising campaign, like a coupon code or something, to get previous users back to the site."
   ]
  }
 ],
 "metadata": {
  "kernelspec": {
   "display_name": "Python [conda root]",
   "language": "python",
   "name": "conda-root-py"
  },
  "language_info": {
   "codemirror_mode": {
    "name": "ipython",
    "version": 3
   },
   "file_extension": ".py",
   "mimetype": "text/x-python",
   "name": "python",
   "nbconvert_exporter": "python",
   "pygments_lexer": "ipython3",
   "version": "3.5.2"
  }
 },
 "nbformat": 4,
 "nbformat_minor": 2
}
